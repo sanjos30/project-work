{
 "cells": [
  {
   "cell_type": "code",
   "execution_count": 4,
   "id": "a1908dba",
   "metadata": {},
   "outputs": [],
   "source": [
    "# importing libraries and modules\n",
    "import os\n",
    "import random\n",
    "import string\n",
    "from faker import Faker\n",
    "import pandas as pd\n",
    "from fpdf import FPDF\n",
    "import pdfplumber\n",
    "import csv\n",
    "import textwrap\n",
    "from dotenv import load_dotenv\n",
    "from create_synthetic_data import generate_statements\n",
    "from convert import pdf_to_csv, csv_to_pdf\n",
    "from prompt_generation import *\n",
    "from get_responses import *"
   ]
  },
  {
   "cell_type": "code",
   "execution_count": null,
   "id": "bec96137",
   "metadata": {},
   "outputs": [],
   "source": [
    "# assign constants\n",
    "NUM_STATEMENTS = 100\n",
    "DATA_SAVE_FOLDER = \"bank_statements\"\n",
    "\n",
    "# to convert csv to pdf and vice versa\n",
    "csv_folder = \"csv_files\"\n",
    "pdf_folder = \"pdf_files\"\n",
    "\n",
    "# For prompt generation, generating a test number of files.\n",
    "NUM_STATEMENTS_TEST = 10\n",
    "# LOCAL_SAVE_FOLDER = \"bank_statements_prompt_gen\"\n",
    "\n",
    "TRANSACTIONS_FOLDER = \"bank_statements_prompt_gen\"  \n",
    "load_dotenv()  # Load variables from .env\n",
    "openai_api_key = os.getenv(\"OPENAI_API_KEY\")\n"
   ]
  },
  {
   "cell_type": "code",
   "execution_count": null,
   "id": "562c1318",
   "metadata": {},
   "outputs": [
    {
     "name": "stdout",
     "output_type": "stream",
     "text": [
      "Generated statement: bank_statements/statement_0_INR.csv\n",
      "Generated statement: bank_statements/statement_1_INR.csv\n",
      "Generated statement: bank_statements/statement_2_INR.csv\n",
      "Generated statement: bank_statements/statement_3_USD.csv\n",
      "Generated statement: bank_statements/statement_4_USD.csv\n",
      "Generated statement: bank_statements/statement_5_USD.csv\n",
      "Generated statement: bank_statements/statement_6_USD.csv\n",
      "Generated statement: bank_statements/statement_7_USD.csv\n",
      "Generated statement: bank_statements/statement_8_INR.csv\n",
      "Generated statement: bank_statements/statement_9_USD.csv\n",
      "Generated statement: bank_statements_prompt_gen/statement_0_USD.csv\n",
      "Generated statement: bank_statements_prompt_gen/statement_1_INR.csv\n",
      "Generated statement: bank_statements_prompt_gen/statement_2_INR.csv\n",
      "Generated statement: bank_statements_prompt_gen/statement_3_INR.csv\n",
      "Generated statement: bank_statements_prompt_gen/statement_4_USD.csv\n",
      "Generated statement: bank_statements_prompt_gen/statement_5_INR.csv\n",
      "Generated statement: bank_statements_prompt_gen/statement_6_USD.csv\n",
      "Generated statement: bank_statements_prompt_gen/statement_7_USD.csv\n",
      "Generated statement: bank_statements_prompt_gen/statement_8_INR.csv\n",
      "Generated statement: bank_statements_prompt_gen/statement_9_INR.csv\n"
     ]
    },
    {
     "name": "stderr",
     "output_type": "stream",
     "text": [
      "/Users/riker/Neon-FinancialRecords/create_synthetic_data.py:125: FutureWarning: 'M' is deprecated and will be removed in a future version, please use 'ME' instead.\n",
      "  pd.date_range(end=pd.Timestamp.today(), periods=12, freq='M').to_period('M')\n"
     ]
    }
   ],
   "source": [
    "\n",
    "# generate and save synthetic bank statements\n",
    "generate_statements(NUM_STATEMENTS, DATA_SAVE_FOLDER)\n",
    "\n",
    "generate_statements(NUM_STATEMENTS_TEST, TRANSACTIONS_FOLDER)"
   ]
  },
  {
   "cell_type": "code",
   "execution_count": 4,
   "id": "19b4bdf7",
   "metadata": {},
   "outputs": [],
   "source": [
    "# if needed convert csv files to pdf\n",
    "# pdf_to_csv(pdf_folder, csv_folder)\n",
    "\n",
    "# if needed convert pdf files to csv\n",
    "# csv_to_pdf(csv_folder, pdf_folder)"
   ]
  },
  {
   "cell_type": "code",
   "execution_count": 5,
   "id": "e74761e3",
   "metadata": {},
   "outputs": [
    {
     "name": "stdout",
     "output_type": "stream",
     "text": [
      "csv saved\n"
     ]
    }
   ],
   "source": [
    "# TRANSACTIONS_FOLDER = \"bank_statements_prompt_gen\"  \n",
    "N_ROWS = 200  \n",
    "PROMPTS_FOLDER = \"prompts_test\"\n",
    "\n",
    "df = create_csv_for_prompt_generation(TRANSACTIONS_FOLDER, N_ROWS, PROMPTS_FOLDER)\n",
    "context_summary = build_context_summary(df)\n"
   ]
  },
  {
   "cell_type": "code",
   "execution_count": null,
   "id": "1a8eee69",
   "metadata": {},
   "outputs": [
    {
     "name": "stdout",
     "output_type": "stream",
     "text": [
      " Saved 25 prompts to prompts_test/statistical_prompts.txt\n",
      " Saved 25 prompts to prompts_test/subjective_prompts.txt\n",
      " Saved 10 prompts to prompts_test/hallucination_check_prompts.txt\n"
     ]
    }
   ],
   "source": [
    "# generating prompts to test synthetic data\n",
    "\n",
    "if not os.path.exists(PROMPTS_FOLDER):\n",
    "    os.makedirs(PROMPTS_FOLDER)\n",
    "\n",
    "generate_prompt(\n",
    "    task_instruction=\"Create prompts that test the model’s ability to do statistical analysis or summarization, like totals, averages, or trends across transaction data.\",\n",
    "    num_prompts=25,\n",
    "    filename=f\"{PROMPTS_FOLDER}/statistical_prompts.txt\", context_summary=context_summary\n",
    ")\n",
    "\n",
    "generate_prompt(\n",
    "    task_instruction=\"Create prompts that require subjective reasoning or human-like interpretation, such as suspicious activity, intent, or user behavior.\",\n",
    "    num_prompts=25,\n",
    "    filename=f\"{PROMPTS_FOLDER}/subjective_prompts.txt\", context_summary=context_summary\n",
    ")\n",
    "\n",
    "generate_prompt(\n",
    "    task_instruction=\"Create prompts that test whether an LLM hallucinates or fabricates facts. Ask questions that only make sense if the model uses only the given data and avoids adding made-up information.\",\n",
    "    num_prompts=10,\n",
    "    filename=f\"{PROMPTS_FOLDER}/hallucination_prompts.txt\", context_summary=context_summary\n",
    ")"
   ]
  },
  {
   "cell_type": "code",
   "execution_count": 9,
   "id": "dbf42c37",
   "metadata": {},
   "outputs": [],
   "source": [
    "CSV_FILE = \"prompts_test/transactions_for_prompt_gen.csv\"\n",
    "QUESTIONS_FILE = \"prompts_test/hallucination_prompts.txt\"\n",
    "SAVE_PATH = \"prompts_test/hallucination_answers.txt\"\n",
    "result = ask_questions_from_csv(csv_path=CSV_FILE, questions_path=QUESTIONS_FILE, model=\"gpt-4o\", save_path=SAVE_PATH)\n",
    "\n",
    "QUESTIONS_FILE = \"prompts_test/statistical_prompts.txt\"\n",
    "SAVE_PATH = \"prompts_test/statistical_answers.txt\"\n",
    "result = ask_questions_from_csv(csv_path=CSV_FILE, questions_path=QUESTIONS_FILE, model=\"gpt-4o\", save_path=SAVE_PATH)\n",
    "\n",
    "QUESTIONS_FILE = \"prompts_test/subjective_prompts.txt\"\n",
    "SAVE_PATH = \"prompts_test/subjective_answers.txt\"\n",
    "result = ask_questions_from_csv(csv_path=CSV_FILE, questions_path=QUESTIONS_FILE, model=\"gpt-4o\", save_path=SAVE_PATH)"
   ]
  },
  {
   "cell_type": "code",
   "execution_count": null,
   "id": "04797b20",
   "metadata": {},
   "outputs": [],
   "source": []
  },
  {
   "cell_type": "code",
   "execution_count": null,
   "id": "0eb59b10",
   "metadata": {},
   "outputs": [],
   "source": []
  },
  {
   "cell_type": "code",
   "execution_count": null,
   "id": "8dbfc4fa",
   "metadata": {},
   "outputs": [],
   "source": []
  },
  {
   "cell_type": "code",
   "execution_count": null,
   "id": "b1fff716",
   "metadata": {},
   "outputs": [],
   "source": []
  }
 ],
 "metadata": {
  "kernelspec": {
   "display_name": "venv",
   "language": "python",
   "name": "python3"
  },
  "language_info": {
   "codemirror_mode": {
    "name": "ipython",
    "version": 3
   },
   "file_extension": ".py",
   "mimetype": "text/x-python",
   "name": "python",
   "nbconvert_exporter": "python",
   "pygments_lexer": "ipython3",
   "version": "3.10.16"
  }
 },
 "nbformat": 4,
 "nbformat_minor": 5
}
